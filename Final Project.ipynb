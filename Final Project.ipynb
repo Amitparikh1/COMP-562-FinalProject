{
 "cells": [
  {
   "cell_type": "code",
   "execution_count": null,
   "id": "3358c70e",
   "metadata": {},
   "outputs": [],
   "source": [
    "# Imports"
   ]
  },
  {
   "cell_type": "code",
   "execution_count": null,
   "id": "764aba71",
   "metadata": {},
   "outputs": [],
   "source": [
    "# Filter columns to the most important variables (Feature Importance)"
   ]
  },
  {
   "cell_type": "code",
   "execution_count": null,
   "id": "84d7ed0b",
   "metadata": {},
   "outputs": [],
   "source": [
    "# Compare different binary classifier models:\n",
    "# - tree based\n",
    "# - logistic regression\n",
    "# - knn \n",
    "# - naive bayes"
   ]
  },
  {
   "cell_type": "code",
   "execution_count": null,
   "id": "e202d7bd",
   "metadata": {},
   "outputs": [],
   "source": [
    "# Show feature importance"
   ]
  }
 ],
 "metadata": {
  "kernelspec": {
   "display_name": "Python 3",
   "language": "python",
   "name": "python3"
  },
  "language_info": {
   "codemirror_mode": {
    "name": "ipython",
    "version": 3
   },
   "file_extension": ".py",
   "mimetype": "text/x-python",
   "name": "python",
   "nbconvert_exporter": "python",
   "pygments_lexer": "ipython3",
   "version": "3.8.8"
  }
 },
 "nbformat": 4,
 "nbformat_minor": 5
}
